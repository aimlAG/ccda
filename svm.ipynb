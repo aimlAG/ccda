{
 "cells": [
  {
   "cell_type": "code",
   "execution_count": null,
   "id": "2c2a6d5a",
   "metadata": {
    "vscode": {
     "languageId": "plaintext"
    }
   },
   "outputs": [],
   "source": [
    "import numpy as np\n",
    "\n",
    "# Dataset\n",
    "X = np.array([[2, 3], [1, 1], [2, 1], [5, 4], [6, 5], [7, 8]])\n",
    "y = np.array([1, 1, 1, -1, -1, -1])  # Labels must be +1 or -1\n",
    "\n",
    "# Hyperparameters\n",
    "learning_rate = 0.001\n",
    "lambda_param = 0.01\n",
    "epochs = 1000\n",
    "\n",
    "n_features = X.shape[1]\n",
    "w = np.zeros(n_features)\n",
    "b = 0\n",
    "\n",
    "# Training using Gradient Descent\n",
    "for epoch in range(epochs):\n",
    "    for i, x_i in enumerate(X):\n",
    "        condition = y[i] * (np.dot(w, x_i) + b) >= 1\n",
    "        if condition:\n",
    "            w -= learning_rate * (2 * lambda_param * w)\n",
    "        else:\n",
    "            w -= learning_rate * (2 * lambda_param * w - np.dot(x_i, y[i]))\n",
    "            b -= learning_rate * y[i]\n",
    "\n",
    "print(\"Weight vector:\", w)\n",
    "print(\"Bias:\", b)\n",
    "\n",
    "def predict(x):\n",
    "    return 1 if np.dot(w, x) + b >= 0 else -1\n",
    "\n",
    "# Test prediction\n",
    "x_new = np.array([3, 3])\n",
    "pred = predict(x_new)\n",
    "print(\"Prediction for\", x_new, \":\", \"Class +1\" if pred == 1 else \"Class -1\")"
   ]
  }
 ],
 "metadata": {
  "language_info": {
   "name": "python"
  }
 },
 "nbformat": 4,
 "nbformat_minor": 5
}
